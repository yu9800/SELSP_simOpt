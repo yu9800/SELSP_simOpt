{
 "cells": [
  {
   "cell_type": "code",
   "execution_count": 1,
   "metadata": {},
   "outputs": [],
   "source": [
    "import pandas as pd\n",
    "import numpy as np"
   ]
  },
  {
   "cell_type": "code",
   "execution_count": 31,
   "metadata": {},
   "outputs": [],
   "source": [
    "df = pd.read_excel(\"./SELSP_simOpt/DoE/DoE - Results v5.xlsx\")\n",
    "\n",
    "def round_values(smax_str):\n",
    "    values = [float(x) for x in smax_str.strip('[]').split(', ')]\n",
    "    rounded_values = [f\"{val:.1f}\" for val in values]\n",
    "    # return \"[\" + \", \".join(rounded_values) + \"]\"\n",
    "    return rounded_values\n",
    "\n",
    "def round_float(value):\n",
    "    return np.round(value, 1)\n",
    "\n",
    "# Define a custom function to create tuples\n",
    "def create_tuples(row):\n",
    "    return [(smin, smax) for smin, smax in zip(row['Smin'], row['Smax'])]\n",
    "\n",
    "\n",
    "# Apply the custom function to the \"Smax\" column\n",
    "df['Smax'] = df['Smax'].apply(round_values)\n",
    "df['Smin'] = df['Smin'].apply(round_values)\n",
    "df['Cost'] = df['Cost'].apply(round_float)\n",
    "df['SL'] = df['SL'].apply(round_float)\n",
    "\n",
    "# Create a new column containing tuples\n",
    "df['(s, S)'] = df.apply(create_tuples, axis=1)\n",
    "\n",
    "df_latex = df[[col for col in df.columns if col not in ['Smin', 'Smax'] ]].copy()\n",
    "df_latex.columns = ['OrdemPad', 'OrdemEns', 'N', 'cv', 'rho', 'p', 'Algoritmo', 'Custo', 'SL', '(s, S)']\n",
    "\n",
    "# Define a custom function to format float values as strings\n",
    "def format_as_string(value):\n",
    "    if isinstance(value, float):\n",
    "        return f\"{value:,.1f}\".replace(',', 'T').replace('.', ',').replace('T', '.')\n",
    "    elif isinstance(value, list):\n",
    "        formatted_list = [f\"({float(x[0]):,.1f}\".replace(',', 'X').replace('.', ',').replace('X', '.') + \\\n",
    "                      f\"; {float(x[1]):,.1f}\".replace(',', 'X').replace('.', ',').replace('X', '.') + ')'\n",
    "                     for x in value]\n",
    "        return \", \".join(formatted_list)\n",
    "        # return \"[\" + \", \".join(formatted_list) + \"]\"\n",
    "        \n",
    "    return str(value)\n",
    "\n",
    "\n",
    "\n"
   ]
  },
  {
   "cell_type": "code",
   "execution_count": 45,
   "metadata": {},
   "outputs": [
    {
     "name": "stdout",
     "output_type": "stream",
     "text": [
      "\\begin{tabular}{llllllllll}\n",
      "\\toprule\n",
      "OrdemPad & OrdemEns &  N &  cv & rho &   p & Algoritmo &     Custo &    SL &                                             (s, S) \\\\\n",
      "\\midrule\n",
      "     470 &        1 &  5 & 0,2 & 0,7 & 0,0 &        NM & 103.489,4 &  99,1 & (1.201,4; 1.399,2), (914,7; 1.658,8), (639,6; 1... \\\\\n",
      "     395 &        2 & 20 & 0,2 & 0,9 & 0,1 &        GA & 169.395,4 &  99,5 & (10,6; 19,1), (44,2; 647,5), (136,9; 517,6), (1... \\\\\n",
      "     376 &        3 & 20 & 0,2 & 0,8 & 0,0 &       ACO & 160.969,9 &  98,7 & (60,0; 270,0), (155,0; 215,0), (560,0; 635,0), ... \\\\\n",
      "     312 &        4 & 10 & 0,5 & 0,8 & 0,1 &       ACO & 100.176,4 &  99,3 & (175,0; 365,0), (260,0; 455,0), (585,0; 715,0),... \\\\\n",
      "     968 &        5 & 10 & 0,5 & 0,9 & 0,1 &       ACO & 105.675,8 &  99,7 & (435,0; 825,0), (120,0; 490,0), (655,0; 935,0),... \\\\\n",
      "      64 &        6 & 20 & 0,2 & 0,9 & 0,0 &       ACO & 178.758,1 &  99,6 & (535,0; 700,0), (15,0; 105,0), (35,0; 155,0), (... \\\\\n",
      "     465 &        7 &  5 & 0,1 & 0,9 & 0,1 &        RD &  71.023,1 &  99,6 & (376,4; 781,6), (849,3; 928,3), (603,9; 630,8),... \\\\\n",
      "     292 &        8 & 10 & 0,5 & 0,7 & 0,0 &       ACO & 134.373,5 &  96,9 & (95,0; 195,0), (810,0; 835,0), (895,0; 915,0), ... \\\\\n",
      "     708 &        9 & 20 & 0,2 & 0,8 & 0,1 &       ACO & 162.261,0 &  96,5 & (330,0; 480,0), (165,0; 340,0), (295,0; 365,0),... \\\\\n",
      "     231 &       10 & 10 & 0,1 & 0,8 & 0,0 &        GA & 109.521,2 &  98,1 & (355,6; 421,0), (67,3; 115,5), (202,3; 381,7), ... \\\\\n",
      "     417 &       11 & 20 & 0,5 & 0,8 & 0,1 &        RD & 175.688,9 &  97,2 & (229,6; 745,5), (133,9; 304,8), (68,6; 999,9), ... \\\\\n",
      "     624 &       12 & 10 & 0,5 & 0,7 & 0,1 &       ACO & 134.581,1 &  95,3 & (395,0; 560,0), (430,0; 640,0), (50,0; 280,0), ... \\\\\n",
      "     414 &       13 & 20 & 0,5 & 0,8 & 0,1 &        NM & 139.206,4 & 100,0 & (268,7; 489,6), (214,7; 380,5), (324,9; 505,6),... \\\\\n",
      "     861 &       14 &  5 & 0,5 & 0,9 & 0,1 &        RD &  82.533,4 &  99,2 & (237,9; 430,9), (156,1; 348,4), (904,4; 958,2),... \\\\\n",
      "       5 &       15 & 20 & 0,1 & 0,7 & 0,1 &        RD & 153.345,0 &  99,6 & (675,3; 953,4), (211,1; 394,6), (267,6; 505,8),... \\\\\n",
      "     ... &          &    &     &     &     &           &           &       &                                                    \\\\\n",
      "     610 &      958 & 10 & 0,2 & 0,9 & 0,1 &        NM &  85.176,4 &  99,8 & (183,3; 483,9), (314,1; 657,7), (277,5; 549,5),... \\\\\n",
      "     542 &      959 & 10 & 0,1 & 0,7 & 0,0 &        NM & 113.270,7 &  98,8 & (136,2; 489,8), (223,2; 422,4), (553,1; 656,7),... \\\\\n",
      "     253 &      960 & 10 & 0,2 & 0,7 & 0,0 &        RD & 126.196,0 &  97,4 & (518,2; 749,4), (668,8; 914,1), (78,4; 279,2), ... \\\\\n",
      "     914 &      961 & 10 & 0,2 & 0,8 & 0,0 &        NM & 107.816,9 &  98,0 & (174,6; 520,1), (445,4; 688,6), (498,8; 649,1),... \\\\\n",
      "     161 &      962 &  5 & 0,2 & 0,8 & 0,1 &        RD &  93.021,3 &  97,2 & (585,6; 802,3), (223,8; 539,3), (784,3; 797,7),... \\\\\n",
      "     725 &      963 & 20 & 0,5 & 0,7 & 0,1 &        RD & 174.823,8 &  97,5 & (11,7; 164,4), (160,1; 268,0), (312,6; 579,1), ... \\\\\n",
      "     212 &      964 &  5 & 0,5 & 0,9 & 0,1 &       ACO &  84.695,7 &  98,8 & (90,0; 290,0), (355,0; 595,0), (250,0; 255,0), ... \\\\\n",
      "     460 &      965 &  5 & 0,1 & 0,9 & 0,0 &       ACO &  66.688,9 &  99,9 & (305,0; 795,0), (615,0; 670,0), (220,0; 705,0),... \\\\\n",
      "     886 &      966 & 10 & 0,1 & 0,8 & 0,1 &        NM &  97.171,1 &  99,7 & (481,3; 904,1), (283,1; 283,1), (223,4; 636,2),... \\\\\n",
      "     150 &      967 &  5 & 0,2 & 0,7 & 0,1 &        NM & 146.411,3 &  94,8 & (1.985,1; 2.081,7), (692,2; 692,2), (883,6; 883... \\\\\n",
      "      10 &      968 & 20 & 0,1 & 0,7 & 0,1 &        NM & 147.620,4 &  99,5 & (300,4; 522,2), (388,1; 626,4), (380,9; 602,8),... \\\\\n",
      "     524 &      969 &  5 & 0,5 & 0,8 & 0,1 &       ACO &  87.810,4 &  97,6 & (320,0; 760,0), (480,0; 555,0), (795,0; 930,0),... \\\\\n",
      "     732 &      970 & 20 & 0,5 & 0,7 & 0,1 &       ACO & 189.504,2 &  99,1 & (730,0; 850,0), (440,0; 980,0), (245,0; 395,0),... \\\\\n",
      "     533 &      971 &  5 & 0,5 & 0,9 & 0,1 &        RD &  72.704,1 &  98,6 & (375,3; 626,8), (499,9; 650,0), (145,8; 296,0),... \\\\\n",
      "     972 &      972 & 10 & 0,5 & 0,9 & 0,1 &       ACO & 115.019,3 &  99,5 & (415,0; 890,0), (490,0; 610,0), (390,0; 595,0),... \\\\\n",
      "\\bottomrule\n",
      "\\end{tabular}\n",
      "\n"
     ]
    }
   ],
   "source": [
    "df_latex_print = df_latex.applymap(format_as_string)\n",
    "\n",
    "# Select the first 10 rows\n",
    "df_head = df_latex_print.head(15)\n",
    "\n",
    "# Select the last 10 rows\n",
    "df_tail = df_latex_print.tail(15)\n",
    "\n",
    "# Create a row with empty values (or \"...\") to insert between the DataFrames\n",
    "empty_row = pd.DataFrame({'OrdemPad': ['...']})\n",
    "\n",
    "# Concatenate the selected rows into a single DataFrame\n",
    "df_selected = pd.concat([df_head, empty_row, df_tail])\n",
    "\n",
    "print(df_selected.to_latex(index=False, formatters={\"name\": str.upper}, na_rep=\"\"))"
   ]
  },
  {
   "cell_type": "code",
   "execution_count": 44,
   "metadata": {},
   "outputs": [
    {
     "data": {
      "text/html": [
       "<div>\n",
       "<style scoped>\n",
       "    .dataframe tbody tr th:only-of-type {\n",
       "        vertical-align: middle;\n",
       "    }\n",
       "\n",
       "    .dataframe tbody tr th {\n",
       "        vertical-align: top;\n",
       "    }\n",
       "\n",
       "    .dataframe thead tr th {\n",
       "        text-align: left;\n",
       "    }\n",
       "\n",
       "    .dataframe thead tr:last-of-type th {\n",
       "        text-align: right;\n",
       "    }\n",
       "</style>\n",
       "<table border=\"1\" class=\"dataframe\">\n",
       "  <thead>\n",
       "    <tr>\n",
       "      <th></th>\n",
       "      <th colspan=\"2\" halign=\"left\">Cost</th>\n",
       "      <th colspan=\"2\" halign=\"left\">SL</th>\n",
       "    </tr>\n",
       "    <tr>\n",
       "      <th></th>\n",
       "      <th>mean</th>\n",
       "      <th>std</th>\n",
       "      <th>mean</th>\n",
       "      <th>std</th>\n",
       "    </tr>\n",
       "    <tr>\n",
       "      <th>algorithm</th>\n",
       "      <th></th>\n",
       "      <th></th>\n",
       "      <th></th>\n",
       "      <th></th>\n",
       "    </tr>\n",
       "  </thead>\n",
       "  <tbody>\n",
       "    <tr>\n",
       "      <th>ACO</th>\n",
       "      <td>133173.14</td>\n",
       "      <td>37525.93</td>\n",
       "      <td>97.48</td>\n",
       "      <td>3.07</td>\n",
       "    </tr>\n",
       "    <tr>\n",
       "      <th>GA</th>\n",
       "      <td>138236.79</td>\n",
       "      <td>37815.27</td>\n",
       "      <td>96.56</td>\n",
       "      <td>4.10</td>\n",
       "    </tr>\n",
       "    <tr>\n",
       "      <th>NM</th>\n",
       "      <td>115424.01</td>\n",
       "      <td>27708.92</td>\n",
       "      <td>98.91</td>\n",
       "      <td>1.62</td>\n",
       "    </tr>\n",
       "    <tr>\n",
       "      <th>RD</th>\n",
       "      <td>133588.31</td>\n",
       "      <td>35908.79</td>\n",
       "      <td>97.24</td>\n",
       "      <td>3.49</td>\n",
       "    </tr>\n",
       "  </tbody>\n",
       "</table>\n",
       "</div>"
      ],
      "text/plain": [
       "                Cost               SL      \n",
       "                mean       std   mean   std\n",
       "algorithm                                  \n",
       "ACO        133173.14  37525.93  97.48  3.07\n",
       "GA         138236.79  37815.27  96.56  4.10\n",
       "NM         115424.01  27708.92  98.91  1.62\n",
       "RD         133588.31  35908.79  97.24  3.49"
      ]
     },
     "execution_count": 44,
     "metadata": {},
     "output_type": "execute_result"
    }
   ],
   "source": [
    "df.groupby(by=['algorithm']).agg({'Cost':['mean', 'std'],'SL':['mean', 'std'] }).round(2)"
   ]
  },
  {
   "cell_type": "code",
   "execution_count": 48,
   "metadata": {},
   "outputs": [
    {
     "name": "stdout",
     "output_type": "stream",
     "text": [
      "\\begin{tabular}{lrrrr}\n",
      "\\toprule\n",
      "{} & \\multicolumn{2}{l}{Cost} & \\multicolumn{2}{l}{SL} \\\\\n",
      "{} &       mean &       std &   mean &   std \\\\\n",
      "p    &            &           &        &       \\\\\n",
      "\\midrule\n",
      "0.00 &  128612.01 &  34563.72 &  97.65 &  3.24 \\\\\n",
      "0.05 &  129988.41 &  35364.88 &  97.50 &  3.43 \\\\\n",
      "0.15 &  131716.26 &  38022.37 &  97.49 &  3.27 \\\\\n",
      "\\bottomrule\n",
      "\\end{tabular}\n",
      "\n"
     ]
    }
   ],
   "source": [
    "table = df.groupby(by=['p']).agg({'Cost':['mean', 'std'],'SL':['mean', 'std'] }).round(2)\n",
    "print(table.to_latex(index=True, formatters={\"name\": str.upper}, na_rep=\"\"))"
   ]
  },
  {
   "cell_type": "code",
   "execution_count": 49,
   "metadata": {},
   "outputs": [
    {
     "name": "stdout",
     "output_type": "stream",
     "text": [
      "\\begin{tabular}{lrrrr}\n",
      "\\toprule\n",
      "{} & \\multicolumn{2}{l}{Cost} & \\multicolumn{2}{l}{SL} \\\\\n",
      "{} &       mean &       std &   mean &   std \\\\\n",
      "N  &            &           &        &       \\\\\n",
      "\\midrule\n",
      "5  &  113443.56 &  41486.46 &  95.27 &  4.74 \\\\\n",
      "10 &  112458.95 &  13878.13 &  98.54 &  1.25 \\\\\n",
      "20 &  164414.18 &  14511.26 &  98.83 &  1.03 \\\\\n",
      "\\bottomrule\n",
      "\\end{tabular}\n",
      "\n"
     ]
    }
   ],
   "source": [
    "table = df.groupby(by=['N']).agg({'Cost':['mean', 'std'],'SL':['mean', 'std'] }).round(2)\n",
    "print(table.to_latex(index=True, formatters={\"name\": str.upper}, na_rep=\"\"))"
   ]
  },
  {
   "cell_type": "code",
   "execution_count": 50,
   "metadata": {},
   "outputs": [
    {
     "name": "stdout",
     "output_type": "stream",
     "text": [
      "\\begin{tabular}{lrrrr}\n",
      "\\toprule\n",
      "{} & \\multicolumn{2}{l}{Cost} & \\multicolumn{2}{l}{SL} \\\\\n",
      "{} &       mean &       std &   mean &   std \\\\\n",
      "cv   &            &           &        &       \\\\\n",
      "\\midrule\n",
      "0.10 &  131018.56 &  38131.75 &  97.41 &  3.83 \\\\\n",
      "0.25 &  129191.77 &  35346.70 &  97.53 &  3.33 \\\\\n",
      "0.50 &  130106.36 &  34507.78 &  97.70 &  2.67 \\\\\n",
      "\\bottomrule\n",
      "\\end{tabular}\n",
      "\n"
     ]
    }
   ],
   "source": [
    "table = df.groupby(by=['cv']).agg({'Cost':['mean', 'std'],'SL':['mean', 'std'] }).round(2)\n",
    "print(table.to_latex(index=True, formatters={\"name\": str.upper}, na_rep=\"\"))"
   ]
  },
  {
   "cell_type": "code",
   "execution_count": 51,
   "metadata": {},
   "outputs": [
    {
     "name": "stdout",
     "output_type": "stream",
     "text": [
      "\\begin{tabular}{lrrrr}\n",
      "\\toprule\n",
      "{} & \\multicolumn{2}{l}{Cost} & \\multicolumn{2}{l}{SL} \\\\\n",
      "{} &       mean &       std &   mean &   std \\\\\n",
      "rho &            &           &        &       \\\\\n",
      "\\midrule\n",
      "0.7 &  148600.31 &  28440.41 &  95.73 &  4.62 \\\\\n",
      "0.8 &  126623.52 &  29031.93 &  97.84 &  2.26 \\\\\n",
      "0.9 &  115092.85 &  40777.61 &  99.07 &  0.86 \\\\\n",
      "\\bottomrule\n",
      "\\end{tabular}\n",
      "\n"
     ]
    }
   ],
   "source": [
    "table = df.groupby(by=['rho']).agg({'Cost':['mean', 'std'],'SL':['mean', 'std'] }).round(2)\n",
    "print(table.to_latex(index=True, formatters={\"name\": str.upper}, na_rep=\"\"))"
   ]
  },
  {
   "cell_type": "code",
   "execution_count": 52,
   "metadata": {},
   "outputs": [
    {
     "name": "stdout",
     "output_type": "stream",
     "text": [
      "\\begin{tabular}{lrrrr}\n",
      "\\toprule\n",
      "{} & \\multicolumn{2}{l}{Cost} & \\multicolumn{2}{l}{SL} \\\\\n",
      "{} &       mean &       std &   mean &   std \\\\\n",
      "algorithm &            &           &        &       \\\\\n",
      "\\midrule\n",
      "ACO       &  133173.14 &  37525.93 &  97.48 &  3.07 \\\\\n",
      "GA        &  138236.79 &  37815.27 &  96.56 &  4.10 \\\\\n",
      "NM        &  115424.01 &  27708.92 &  98.91 &  1.62 \\\\\n",
      "RD        &  133588.31 &  35908.79 &  97.24 &  3.49 \\\\\n",
      "\\bottomrule\n",
      "\\end{tabular}\n",
      "\n"
     ]
    }
   ],
   "source": [
    "table = df.groupby(by=['algorithm']).agg({'Cost':['mean', 'std'],'SL':['mean', 'std'] }).round(2)\n",
    "print(table.to_latex(index=True, formatters={\"name\": str.upper}, na_rep=\"\"))"
   ]
  },
  {
   "cell_type": "code",
   "execution_count": null,
   "metadata": {},
   "outputs": [],
   "source": []
  }
 ],
 "metadata": {
  "kernelspec": {
   "display_name": "Python 3",
   "language": "python",
   "name": "python3"
  },
  "language_info": {
   "codemirror_mode": {
    "name": "ipython",
    "version": 3
   },
   "file_extension": ".py",
   "mimetype": "text/x-python",
   "name": "python",
   "nbconvert_exporter": "python",
   "pygments_lexer": "ipython3",
   "version": "3.8.0"
  }
 },
 "nbformat": 4,
 "nbformat_minor": 2
}

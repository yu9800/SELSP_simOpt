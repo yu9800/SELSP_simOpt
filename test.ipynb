{
 "cells": [
  {
   "cell_type": "code",
   "execution_count": 5,
   "metadata": {},
   "outputs": [
    {
     "name": "stdout",
     "output_type": "stream",
     "text": [
      "Uniform Distribution: {0: 10.0, 1: 10.0, 2: 10.0, 3: 10.0, 4: 10.0, 5: 10.0, 6: 10.0, 7: 10.0, 8: 10.0, 9: 10.0}\n",
      "Lowly Concentrated Distribution: {0: 19.916359657128616, 1: 14.082992970105828, 2: 11.498715609320609, 3: 9.958179828564308, 4: 8.906866811534798, 5: 8.130819782286206, 6: 7.527676382068852, 7: 7.041496485052914, 8: 6.638786552376205, 9: 6.298105921561659}\n",
      "Highly Concentrated Distribution: {0: 50.11686015541615, 1: 17.718985833836324, 2: 9.644994233889449, 3: 6.2646075194270185, 4: 4.482588245054447, 5: 3.410020413644189, 6: 2.706056091074143, 7: 2.2148732292295406, 8: 1.8561800057561537, 9: 1.5848342726725526}\n"
     ]
    }
   ],
   "source": [
    "def distribute_uniformly(total_demand, N):\n",
    "    demand_per_item = total_demand / N\n",
    "    uniform_distribution = {i: demand_per_item for i in range(N)}\n",
    "    return uniform_distribution\n",
    "\n",
    "def distribute_lowly_concentrated(total_demand, N, k):\n",
    "    demand_per_item = []\n",
    "    total_powers = sum([i ** -k for i in range(1, N + 1)])\n",
    "    for i in range(1, N + 1):\n",
    "        demand = (total_demand / total_powers) * (i ** -k)\n",
    "        demand_per_item.append(demand)\n",
    "    lowly_concentrated_distribution = {i: demand for i, demand in enumerate(demand_per_item)}\n",
    "    return lowly_concentrated_distribution\n",
    "\n",
    "def distribute_highly_concentrated(total_demand, N, alpha):\n",
    "    demand_per_item = []\n",
    "    C = total_demand * (alpha - 1) / (alpha ** alpha)\n",
    "    for i in range(1, N + 1):\n",
    "        demand = C / (i ** alpha)\n",
    "        demand_per_item.append(demand)\n",
    "\n",
    "    # Normalize demands to match the total demand\n",
    "    total_calculated_demand = sum(demand_per_item)\n",
    "    normalization_factor = total_demand / total_calculated_demand\n",
    "    normalized_demand_per_item = [demand * normalization_factor for demand in demand_per_item]\n",
    "    \n",
    "    highly_concentrated_distribution = {i: demand for i, demand in enumerate(normalized_demand_per_item)}\n",
    "    return highly_concentrated_distribution\n",
    "\n",
    "# Example usage\n",
    "total_demand = 25000/250\n",
    "N = 10\n",
    "k_low = 0.5\n",
    "alpha_high = 1.5\n",
    "\n",
    "uniform_distribution = distribute_uniformly(total_demand, N)\n",
    "lowly_concentrated_distribution = distribute_lowly_concentrated(total_demand, N, k_low)\n",
    "highly_concentrated_distribution = distribute_highly_concentrated(total_demand, N, alpha_high)\n",
    "\n",
    "print(\"Uniform Distribution:\", uniform_distribution)\n",
    "print(\"Lowly Concentrated Distribution:\", lowly_concentrated_distribution)\n",
    "print(\"Highly Concentrated Distribution:\", highly_concentrated_distribution)\n"
   ]
  },
  {
   "cell_type": "code",
   "execution_count": 6,
   "metadata": {},
   "outputs": [
    {
     "data": {
      "text/plain": [
       "100.0"
      ]
     },
     "execution_count": 6,
     "metadata": {},
     "output_type": "execute_result"
    },
    {
     "data": {
      "image/png": "[encoded data removed]",
      "text/plain": [
       "<Figure size 432x288 with 1 Axes>"
      ]
     },
     "metadata": {
      "needs_background": "light"
     },
     "output_type": "display_data"
    }
   ],
   "source": [
    "import matplotlib.pyplot as plt\n",
    "import numpy as np\n",
    "\n",
    "plt.bar(np.arange(len(uniform_distribution)), uniform_distribution.values()) \n",
    "np.sum(list(uniform_distribution.values()))"
   ]
  },
  {
   "cell_type": "code",
   "execution_count": 7,
   "metadata": {},
   "outputs": [
    {
     "data": {
      "text/plain": [
       "99.99999999999999"
      ]
     },
     "execution_count": 7,
     "metadata": {},
     "output_type": "execute_result"
    },
    {
     "data": {
      "image/png": "[encoded data removed]",
      "text/plain": [
       "<Figure size 432x288 with 1 Axes>"
      ]
     },
     "metadata": {
      "needs_background": "light"
     },
     "output_type": "display_data"
    }
   ],
   "source": [
    "\n",
    "plt.bar(np.arange(len(lowly_concentrated_distribution)), lowly_concentrated_distribution.values()) \n",
    "np.sum(list(lowly_concentrated_distribution.values()))\n"
   ]
  },
  {
   "cell_type": "code",
   "execution_count": 8,
   "metadata": {},
   "outputs": [
    {
     "data": {
      "text/plain": [
       "99.99999999999997"
      ]
     },
     "execution_count": 8,
     "metadata": {},
     "output_type": "execute_result"
    },
    {
     "data": {
      "image/png": "[encoded data removed]",
      "text/plain": [
       "<Figure size 432x288 with 1 Axes>"
      ]
     },
     "metadata": {
      "needs_background": "light"
     },
     "output_type": "display_data"
    }
   ],
   "source": [
    "\n",
    "plt.bar(np.arange(len(highly_concentrated_distribution)), highly_concentrated_distribution.values()) \n",
    "np.sum(list(highly_concentrated_distribution.values()))"
   ]
  },
  {
   "cell_type": "code",
   "execution_count": 22,
   "metadata": {},
   "outputs": [
    {
     "name": "stdout",
     "output_type": "stream",
     "text": [
      "Geometric Distribution: {0: 12.46065359345489, 1: 11.837620913782144, 2: 11.245739868093036, 3: 10.683452874688385, 4: 10.149280230953966, 5: 9.641816219406266, 6: 9.159725408435952, 7: 8.701739138014155, 8: 8.266652181113445, 9: 7.853319572057773}\n"
     ]
    },
    {
     "data": {
      "text/plain": [
       "100.0"
      ]
     },
     "execution_count": 22,
     "metadata": {},
     "output_type": "execute_result"
    },
    {
     "data": {
      "image/png": "[encoded data removed]",
      "text/plain": [
       "<Figure size 432x288 with 1 Axes>"
      ]
     },
     "metadata": {
      "needs_background": "light"
     },
     "output_type": "display_data"
    }
   ],
   "source": [
    "import numpy as np\n",
    "import matplotlib.pyplot as plt\n",
    "\n",
    "def distribute_geometric(total_demand, N, p):\n",
    "    demand_per_item = []\n",
    "    if p != 0:\n",
    "        geometric_sum = sum([p * (1 - p) ** (i - 1) for i in range(1, N + 1)])\n",
    "        for i in range(1, N + 1):\n",
    "            demand = (total_demand / geometric_sum) * (p * (1 - p) ** (i - 1))\n",
    "            demand_per_item.append(demand)\n",
    "        geometric_distribution = {i: demand for i, demand in enumerate(demand_per_item)}\n",
    "    \n",
    "    else:\n",
    "        demand_per_item = total_demand / N\n",
    "        geometric_distribution = {i: demand_per_item for i in range(N)}\n",
    "        \n",
    "    return geometric_distribution\n",
    "\n",
    "# Example usage\n",
    "total_demand = 25000 / 250\n",
    "N = 10\n",
    "p = 0.05\n",
    "\n",
    "\n",
    "geometric_distribution = distribute_geometric(total_demand, N, p)\n",
    "print(\"Geometric Distribution:\", geometric_distribution)\n",
    "\n",
    "\n",
    "plt.bar(np.arange(len(geometric_distribution)), geometric_distribution.values()) \n",
    "np.sum(list(geometric_distribution.values()))"
   ]
  },
  {
   "cell_type": "code",
   "execution_count": null,
   "metadata": {},
   "outputs": [],
   "source": []
  }
 ],
 "metadata": {
  "kernelspec": {
   "display_name": "Python 3",
   "language": "python",
   "name": "python3"
  },
  "language_info": {
   "codemirror_mode": {
    "name": "ipython",
    "version": 3
   },
   "file_extension": ".py",
   "mimetype": "text/x-python",
   "name": "python",
   "nbconvert_exporter": "python",
   "pygments_lexer": "ipython3",
   "version": "3.8.0"
  },
  "orig_nbformat": 4
 },
 "nbformat": 4,
 "nbformat_minor": 2
}

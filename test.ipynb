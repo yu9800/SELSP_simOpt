{
 "cells": [
  {
   "cell_type": "code",
   "execution_count": 5,
   "metadata": {},
   "outputs": [
    {
     "name": "stdout",
     "output_type": "stream",
     "text": [
      "Uniform Distribution: {0: 10.0, 1: 10.0, 2: 10.0, 3: 10.0, 4: 10.0, 5: 10.0, 6: 10.0, 7: 10.0, 8: 10.0, 9: 10.0}\n",
      "Lowly Concentrated Distribution: {0: 19.916359657128616, 1: 14.082992970105828, 2: 11.498715609320609, 3: 9.958179828564308, 4: 8.906866811534798, 5: 8.130819782286206, 6: 7.527676382068852, 7: 7.041496485052914, 8: 6.638786552376205, 9: 6.298105921561659}\n",
      "Highly Concentrated Distribution: {0: 50.11686015541615, 1: 17.718985833836324, 2: 9.644994233889449, 3: 6.2646075194270185, 4: 4.482588245054447, 5: 3.410020413644189, 6: 2.706056091074143, 7: 2.2148732292295406, 8: 1.8561800057561537, 9: 1.5848342726725526}\n"
     ]
    }
   ],
   "source": [
    "def distribute_uniformly(total_demand, N):\n",
    "    demand_per_item = total_demand / N\n",
    "    uniform_distribution = {i: demand_per_item for i in range(N)}\n",
    "    return uniform_distribution\n",
    "\n",
    "def distribute_lowly_concentrated(total_demand, N, k):\n",
    "    demand_per_item = []\n",
    "    total_powers = sum([i ** -k for i in range(1, N + 1)])\n",
    "    for i in range(1, N + 1):\n",
    "        demand = (total_demand / total_powers) * (i ** -k)\n",
    "        demand_per_item.append(demand)\n",
    "    lowly_concentrated_distribution = {i: demand for i, demand in enumerate(demand_per_item)}\n",
    "    return lowly_concentrated_distribution\n",
    "\n",
    "def distribute_highly_concentrated(total_demand, N, alpha):\n",
    "    demand_per_item = []\n",
    "    C = total_demand * (alpha - 1) / (alpha ** alpha)\n",
    "    for i in range(1, N + 1):\n",
    "        demand = C / (i ** alpha)\n",
    "        demand_per_item.append(demand)\n",
    "\n",
    "    # Normalize demands to match the total demand\n",
    "    total_calculated_demand = sum(demand_per_item)\n",
    "    normalization_factor = total_demand / total_calculated_demand\n",
    "    normalized_demand_per_item = [demand * normalization_factor for demand in demand_per_item]\n",
    "    \n",
    "    highly_concentrated_distribution = {i: demand for i, demand in enumerate(normalized_demand_per_item)}\n",
    "    return highly_concentrated_distribution\n",
    "\n",
    "# Example usage\n",
    "total_demand = 25000/250\n",
    "N = 10\n",
    "k_low = 0.5\n",
    "alpha_high = 1.5\n",
    "\n",
    "uniform_distribution = distribute_uniformly(total_demand, N)\n",
    "lowly_concentrated_distribution = distribute_lowly_concentrated(total_demand, N, k_low)\n",
    "highly_concentrated_distribution = distribute_highly_concentrated(total_demand, N, alpha_high)\n",
    "\n",
    "print(\"Uniform Distribution:\", uniform_distribution)\n",
    "print(\"Lowly Concentrated Distribution:\", lowly_concentrated_distribution)\n",
    "print(\"Highly Concentrated Distribution:\", highly_concentrated_distribution)\n"
   ]
  },
  {
   "cell_type": "code",
   "execution_count": 6,
   "metadata": {},
   "outputs": [
    {
     "data": {
      "text/plain": [
       "100.0"
      ]
     },
     "execution_count": 6,
     "metadata": {},
     "output_type": "execute_result"
    },
    {
     "data": {
      "image/png": "[encoded data removed]",
      "text/plain": [
       "<Figure size 432x288 with 1 Axes>"
      ]
     },
     "metadata": {
      "needs_background": "light"
     },
     "output_type": "display_data"
    }
   ],
   "source": [
    "import matplotlib.pyplot as plt\n",
    "import numpy as np\n",
    "\n",
    "plt.bar(np.arange(len(uniform_distribution)), uniform_distribution.values()) \n",
    "np.sum(list(uniform_distribution.values()))"
   ]
  },
  {
   "cell_type": "code",
   "execution_count": 7,
   "metadata": {},
   "outputs": [
    {
     "data": {
      "text/plain": [
       "99.99999999999999"
      ]
     },
     "execution_count": 7,
     "metadata": {},
     "output_type": "execute_result"
    },
    {
     "data": {
      "image/png": "[encoded data removed]",
      "text/plain": [
       "<Figure size 432x288 with 1 Axes>"
      ]
     },
     "metadata": {
      "needs_background": "light"
     },
     "output_type": "display_data"
    }
   ],
   "source": [
    "\n",
    "plt.bar(np.arange(len(lowly_concentrated_distribution)), lowly_concentrated_distribution.values()) \n",
    "np.sum(list(lowly_concentrated_distribution.values()))\n"
   ]
  },
  {
   "cell_type": "code",
   "execution_count": 8,
   "metadata": {},
   "outputs": [
    {
     "data": {
      "text/plain": [
       "99.99999999999997"
      ]
     },
     "execution_count": 8,
     "metadata": {},
     "output_type": "execute_result"
    },
    {
     "data": {
      "image/png": "[encoded data removed]",
      "text/plain": [
       "<Figure size 432x288 with 1 Axes>"
      ]
     },
     "metadata": {
      "needs_background": "light"
     },
     "output_type": "display_data"
    }
   ],
   "source": [
    "\n",
    "plt.bar(np.arange(len(highly_concentrated_distribution)), highly_concentrated_distribution.values()) \n",
    "np.sum(list(highly_concentrated_distribution.values()))"
   ]
  },
  {
   "cell_type": "code",
   "execution_count": 29,
   "metadata": {},
   "outputs": [
    {
     "name": "stdout",
     "output_type": "stream",
     "text": [
      "Geometric Distribution: {0: 18.67702894923509, 1: 15.87547460684983, 2: 13.494153415822353, 3: 11.470030403449, 4: 9.74952584293165, 5: 8.287096966491902, 6: 7.044032421518116, 7: 5.987427558290398, 8: 5.089313424546839, 9: 4.325916410864813}\n"
     ]
    },
    {
     "data": {
      "text/plain": [
       "100.0"
      ]
     },
     "execution_count": 29,
     "metadata": {},
     "output_type": "execute_result"
    },
    {
     "data": {
      "image/png": "[encoded data removed]",
      "text/plain": [
       "<Figure size 432x288 with 1 Axes>"
      ]
     },
     "metadata": {
      "needs_background": "light"
     },
     "output_type": "display_data"
    }
   ],
   "source": [
    "import numpy as np\n",
    "import matplotlib.pyplot as plt\n",
    "\n",
    "def distribute_geometric(total_demand, N, p):\n",
    "    demand_per_item = []\n",
    "    if p != 0:\n",
    "        geometric_sum = sum([p * (1 - p) ** (i - 1) for i in range(1, N + 1)])\n",
    "        for i in range(1, N + 1):\n",
    "            demand = (total_demand / geometric_sum) * (p * (1 - p) ** (i - 1))\n",
    "            demand_per_item.append(demand)\n",
    "        geometric_distribution = {i: demand for i, demand in enumerate(demand_per_item)}\n",
    "    \n",
    "    else:\n",
    "        demand_per_item = total_demand / N\n",
    "        geometric_distribution = {i: demand_per_item for i in range(N)}\n",
    "        \n",
    "    return geometric_distribution\n",
    "\n",
    "# Example usage\n",
    "total_demand = 25000 / 250\n",
    "N = 10\n",
    "p = 0.15\n",
    "\n",
    "\n",
    "geometric_distribution = distribute_geometric(total_demand, N, p)\n",
    "print(\"Geometric Distribution:\", geometric_distribution)\n",
    "\n",
    "\n",
    "plt.bar(np.arange(len(geometric_distribution)), geometric_distribution.values()) \n",
    "np.sum(list(geometric_distribution.values()))"
   ]
  },
  {
   "cell_type": "code",
   "execution_count": 14,
   "metadata": {},
   "outputs": [
    {
     "data": {
      "image/png": "[encoded data removed]",
      "text/plain": [
       "<Figure size 1080x360 with 3 Axes>"
      ]
     },
     "metadata": {
      "needs_background": "light"
     },
     "output_type": "display_data"
    }
   ],
   "source": [
    "import numpy as np\n",
    "import matplotlib.pyplot as plt\n",
    "\n",
    "def distribute_geometric(total_demand, N, p):\n",
    "    demand_per_item = []\n",
    "    if p != 0:\n",
    "        geometric_sum = sum([p * (1 - p) ** (i - 1) for i in range(1, N + 1)])\n",
    "        for i in range(1, N + 1):\n",
    "            demand = (total_demand / geometric_sum) * (p * (1 - p) ** (i - 1))\n",
    "            demand_per_item.append(demand)\n",
    "        geometric_distribution = {i: demand for i, demand in enumerate(demand_per_item)}\n",
    "    \n",
    "    else:\n",
    "        demand_per_item = total_demand / N\n",
    "        geometric_distribution = {i: demand_per_item for i in range(N)}\n",
    "        \n",
    "    return geometric_distribution\n",
    "\n",
    "# Values for p\n",
    "p_values = [0.0, 0.05, 0.15]\n",
    "total_demand = 25000 / 250\n",
    "N = 5\n",
    "\n",
    "# Create subplots\n",
    "fig, axes = plt.subplots(1, len(p_values), figsize=(15, 5))\n",
    "\n",
    "# Plot for each value of p\n",
    "for i, p in enumerate(p_values):\n",
    "    geometric_distribution = distribute_geometric(total_demand, N, p)\n",
    "    ax = axes[i]\n",
    "    ax.bar(np.arange(len(geometric_distribution)), geometric_distribution.values())\n",
    "    ax.set_title(f'p = {p}', fontweight='bold')\n",
    "    ax.set_ylabel('Demanda diária')  # Y-axis title\n",
    "    ax.set_xlabel('SKU ID')  # X-axis title\n",
    "\n",
    "    \n",
    "plt.suptitle('Distribuição geométrica para diferentes valores de p', fontsize=16, fontweight='bold')\n",
    "\n",
    "plt.show()\n"
   ]
  },
  {
   "cell_type": "code",
   "execution_count": 20,
   "metadata": {},
   "outputs": [
    {
     "data": {
      "text/html": [
       "<div>\n",
       "<style scoped>\n",
       "    .dataframe tbody tr th:only-of-type {\n",
       "        vertical-align: middle;\n",
       "    }\n",
       "\n",
       "    .dataframe tbody tr th {\n",
       "        vertical-align: top;\n",
       "    }\n",
       "\n",
       "    .dataframe thead th {\n",
       "        text-align: right;\n",
       "    }\n",
       "</style>\n",
       "<table border=\"1\" class=\"dataframe\">\n",
       "  <thead>\n",
       "    <tr style=\"text-align: right;\">\n",
       "      <th></th>\n",
       "      <th>OrdemPad</th>\n",
       "      <th>OrdemEns</th>\n",
       "      <th>N</th>\n",
       "      <th>cv</th>\n",
       "      <th>rho</th>\n",
       "      <th>p</th>\n",
       "      <th>algorithm</th>\n",
       "    </tr>\n",
       "  </thead>\n",
       "  <tbody>\n",
       "    <tr>\n",
       "      <th>0</th>\n",
       "      <td>470</td>\n",
       "      <td>1</td>\n",
       "      <td>5</td>\n",
       "      <td>0.25</td>\n",
       "      <td>0.7</td>\n",
       "      <td>0.00</td>\n",
       "      <td>NM</td>\n",
       "    </tr>\n",
       "    <tr>\n",
       "      <th>1</th>\n",
       "      <td>395</td>\n",
       "      <td>2</td>\n",
       "      <td>20</td>\n",
       "      <td>0.25</td>\n",
       "      <td>0.9</td>\n",
       "      <td>0.15</td>\n",
       "      <td>GA</td>\n",
       "    </tr>\n",
       "    <tr>\n",
       "      <th>2</th>\n",
       "      <td>376</td>\n",
       "      <td>3</td>\n",
       "      <td>20</td>\n",
       "      <td>0.25</td>\n",
       "      <td>0.8</td>\n",
       "      <td>0.00</td>\n",
       "      <td>ACO</td>\n",
       "    </tr>\n",
       "    <tr>\n",
       "      <th>3</th>\n",
       "      <td>312</td>\n",
       "      <td>4</td>\n",
       "      <td>10</td>\n",
       "      <td>0.50</td>\n",
       "      <td>0.8</td>\n",
       "      <td>0.15</td>\n",
       "      <td>ACO</td>\n",
       "    </tr>\n",
       "    <tr>\n",
       "      <th>4</th>\n",
       "      <td>968</td>\n",
       "      <td>5</td>\n",
       "      <td>10</td>\n",
       "      <td>0.50</td>\n",
       "      <td>0.9</td>\n",
       "      <td>0.05</td>\n",
       "      <td>ACO</td>\n",
       "    </tr>\n",
       "    <tr>\n",
       "      <th>...</th>\n",
       "      <td>...</td>\n",
       "      <td>...</td>\n",
       "      <td>...</td>\n",
       "      <td>...</td>\n",
       "      <td>...</td>\n",
       "      <td>...</td>\n",
       "      <td>...</td>\n",
       "    </tr>\n",
       "    <tr>\n",
       "      <th>967</th>\n",
       "      <td>10</td>\n",
       "      <td>968</td>\n",
       "      <td>20</td>\n",
       "      <td>0.10</td>\n",
       "      <td>0.7</td>\n",
       "      <td>0.15</td>\n",
       "      <td>NM</td>\n",
       "    </tr>\n",
       "    <tr>\n",
       "      <th>968</th>\n",
       "      <td>524</td>\n",
       "      <td>969</td>\n",
       "      <td>5</td>\n",
       "      <td>0.50</td>\n",
       "      <td>0.8</td>\n",
       "      <td>0.05</td>\n",
       "      <td>ACO</td>\n",
       "    </tr>\n",
       "    <tr>\n",
       "      <th>969</th>\n",
       "      <td>732</td>\n",
       "      <td>970</td>\n",
       "      <td>20</td>\n",
       "      <td>0.50</td>\n",
       "      <td>0.7</td>\n",
       "      <td>0.15</td>\n",
       "      <td>ACO</td>\n",
       "    </tr>\n",
       "    <tr>\n",
       "      <th>970</th>\n",
       "      <td>533</td>\n",
       "      <td>971</td>\n",
       "      <td>5</td>\n",
       "      <td>0.50</td>\n",
       "      <td>0.9</td>\n",
       "      <td>0.05</td>\n",
       "      <td>RD</td>\n",
       "    </tr>\n",
       "    <tr>\n",
       "      <th>971</th>\n",
       "      <td>972</td>\n",
       "      <td>972</td>\n",
       "      <td>10</td>\n",
       "      <td>0.50</td>\n",
       "      <td>0.9</td>\n",
       "      <td>0.15</td>\n",
       "      <td>ACO</td>\n",
       "    </tr>\n",
       "  </tbody>\n",
       "</table>\n",
       "<p>972 rows × 7 columns</p>\n",
       "</div>"
      ],
      "text/plain": [
       "     OrdemPad  OrdemEns   N    cv  rho     p algorithm\n",
       "0         470         1   5  0.25  0.7  0.00        NM\n",
       "1         395         2  20  0.25  0.9  0.15        GA\n",
       "2         376         3  20  0.25  0.8  0.00       ACO\n",
       "3         312         4  10  0.50  0.8  0.15       ACO\n",
       "4         968         5  10  0.50  0.9  0.05       ACO\n",
       "..        ...       ...  ..   ...  ...   ...       ...\n",
       "967        10       968  20  0.10  0.7  0.15        NM\n",
       "968       524       969   5  0.50  0.8  0.05       ACO\n",
       "969       732       970  20  0.50  0.7  0.15       ACO\n",
       "970       533       971   5  0.50  0.9  0.05        RD\n",
       "971       972       972  10  0.50  0.9  0.15       ACO\n",
       "\n",
       "[972 rows x 7 columns]"
      ]
     },
     "execution_count": 20,
     "metadata": {},
     "output_type": "execute_result"
    }
   ],
   "source": [
    "import pandas as  pd\n",
    "\n",
    "df = pd.read_excel(\"./DoE/DoE - TCC v3.xlsx\", sheet_name = \"DoE\")\n"
   ]
  },
  {
   "cell_type": "code",
   "execution_count": 26,
   "metadata": {},
   "outputs": [
    {
     "name": "stdout",
     "output_type": "stream",
     "text": [
      "\\begin{tabular}{rrrrrrl}\n",
      "\\toprule\n",
      " OrdemPad &  OrdemEns &  N &  cv &  rho &   p & algorithm \\\\\n",
      "\\midrule\n",
      "      470 &         1 &  5 & 0.2 &  0.7 & 0.0 &        NM \\\\\n",
      "      395 &         2 & 20 & 0.2 &  0.9 & 0.1 &        GA \\\\\n",
      "      376 &         3 & 20 & 0.2 &  0.8 & 0.0 &       ACO \\\\\n",
      "      312 &         4 & 10 & 0.5 &  0.8 & 0.1 &       ACO \\\\\n",
      "      968 &         5 & 10 & 0.5 &  0.9 & 0.1 &       ACO \\\\\n",
      "       64 &         6 & 20 & 0.2 &  0.9 & 0.0 &       ACO \\\\\n",
      "      465 &         7 &  5 & 0.1 &  0.9 & 0.1 &        RD \\\\\n",
      "      292 &         8 & 10 & 0.5 &  0.7 & 0.0 &       ACO \\\\\n",
      "      708 &         9 & 20 & 0.2 &  0.8 & 0.1 &       ACO \\\\\n",
      "      231 &        10 & 10 & 0.1 &  0.8 & 0.0 &        GA \\\\\n",
      "      725 &       963 & 20 & 0.5 &  0.7 & 0.1 &        RD \\\\\n",
      "      212 &       964 &  5 & 0.5 &  0.9 & 0.1 &       ACO \\\\\n",
      "      460 &       965 &  5 & 0.1 &  0.9 & 0.0 &       ACO \\\\\n",
      "      886 &       966 & 10 & 0.1 &  0.8 & 0.1 &        NM \\\\\n",
      "      150 &       967 &  5 & 0.2 &  0.7 & 0.1 &        NM \\\\\n",
      "       10 &       968 & 20 & 0.1 &  0.7 & 0.1 &        NM \\\\\n",
      "      524 &       969 &  5 & 0.5 &  0.8 & 0.1 &       ACO \\\\\n",
      "      732 &       970 & 20 & 0.5 &  0.7 & 0.1 &       ACO \\\\\n",
      "      533 &       971 &  5 & 0.5 &  0.9 & 0.1 &        RD \\\\\n",
      "      972 &       972 & 10 & 0.5 &  0.9 & 0.1 &       ACO \\\\\n",
      "\\bottomrule\n",
      "\\end{tabular}\n",
      "\n"
     ]
    }
   ],
   "source": [
    "# Assuming you have a DataFrame called 'df'\n",
    "\n",
    "# Select the first 10 rows\n",
    "df_head = df.head(10)\n",
    "\n",
    "# Select the last 10 rows\n",
    "df_tail = df.tail(10)\n",
    "\n",
    "# Concatenate the selected rows into a single DataFrame\n",
    "df_selected = pd.concat([df_head, df_tail])\n",
    "\n",
    "# Convert the selected DataFrame to LaTeX format\n",
    "latex_output = df_selected.to_latex(index=False, formatters={\"name\": str.upper}, float_format=\"{:.1f}\".format)\n",
    "\n",
    "# Print the LaTeX output\n",
    "print(latex_output)\n"
   ]
  },
  {
   "cell_type": "code",
   "execution_count": null,
   "metadata": {},
   "outputs": [],
   "source": []
  }
 ],
 "metadata": {
  "kernelspec": {
   "display_name": "Python 3",
   "language": "python",
   "name": "python3"
  },
  "language_info": {
   "codemirror_mode": {
    "name": "ipython",
    "version": 3
   },
   "file_extension": ".py",
   "mimetype": "text/x-python",
   "name": "python",
   "nbconvert_exporter": "python",
   "pygments_lexer": "ipython3",
   "version": "3.8.0"
  },
  "orig_nbformat": 4
 },
 "nbformat": 4,
 "nbformat_minor": 2
}

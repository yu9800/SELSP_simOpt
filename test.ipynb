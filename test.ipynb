{
 "cells": [
  {
   "cell_type": "code",
   "execution_count": 57,
   "metadata": {},
   "outputs": [
    {
     "name": "stdout",
     "output_type": "stream",
     "text": [
      "Uniform Distribution: {0: 50.0, 1: 50.0}\n",
      "Lowly Concentrated Distribution: {0: 58.5786437626905, 1: 41.42135623730951}\n",
      "Highly Concentrated Distribution: {0: 73.87961250362586, 1: 26.120387496374143}\n"
     ]
    }
   ],
   "source": [
    "def distribute_uniformly(total_demand, N):\n",
    "    demand_per_item = total_demand / N\n",
    "    uniform_distribution = {i: demand_per_item for i in range(N)}\n",
    "    return uniform_distribution\n",
    "\n",
    "def distribute_lowly_concentrated(total_demand, N, k):\n",
    "    demand_per_item = []\n",
    "    total_powers = sum([i ** -k for i in range(1, N + 1)])\n",
    "    for i in range(1, N + 1):\n",
    "        demand = (total_demand / total_powers) * (i ** -k)\n",
    "        demand_per_item.append(demand)\n",
    "    lowly_concentrated_distribution = {i: demand for i, demand in enumerate(demand_per_item)}\n",
    "    return lowly_concentrated_distribution\n",
    "\n",
    "def distribute_highly_concentrated(total_demand, N, alpha):\n",
    "    demand_per_item = []\n",
    "    C = total_demand * (alpha - 1) / (alpha ** alpha)\n",
    "    for i in range(1, N + 1):\n",
    "        demand = C / (i ** alpha)\n",
    "        demand_per_item.append(demand)\n",
    "\n",
    "    # Normalize demands to match the total demand\n",
    "    total_calculated_demand = sum(demand_per_item)\n",
    "    normalization_factor = total_demand / total_calculated_demand\n",
    "    normalized_demand_per_item = [demand * normalization_factor for demand in demand_per_item]\n",
    "    \n",
    "    highly_concentrated_distribution = {i: demand for i, demand in enumerate(normalized_demand_per_item)}\n",
    "    return highly_concentrated_distribution\n",
    "\n",
    "# Example usage\n",
    "total_demand = 25000/250\n",
    "N = 2\n",
    "k_low = 0.5\n",
    "alpha_high = 1.5\n",
    "\n",
    "uniform_distribution = distribute_uniformly(total_demand, N)\n",
    "lowly_concentrated_distribution = distribute_lowly_concentrated(total_demand, N, k_low)\n",
    "highly_concentrated_distribution = distribute_highly_concentrated(total_demand, N, alpha_high)\n",
    "\n",
    "print(\"Uniform Distribution:\", uniform_distribution)\n",
    "print(\"Lowly Concentrated Distribution:\", lowly_concentrated_distribution)\n",
    "print(\"Highly Concentrated Distribution:\", highly_concentrated_distribution)\n"
   ]
  },
  {
   "cell_type": "code",
   "execution_count": 58,
   "metadata": {},
   "outputs": [
    {
     "data": {
      "text/plain": [
       "100.0"
      ]
     },
     "execution_count": 58,
     "metadata": {},
     "output_type": "execute_result"
    },
    {
     "data": {
      "image/png": "[encoded data removed]",
      "text/plain": [
       "<Figure size 432x288 with 1 Axes>"
      ]
     },
     "metadata": {
      "needs_background": "light"
     },
     "output_type": "display_data"
    }
   ],
   "source": [
    "import matplotlib.pyplot as plt\n",
    "import numpy as np\n",
    "\n",
    "plt.bar(np.arange(len(uniform_distribution)), uniform_distribution.values()) \n",
    "np.sum(list(uniform_distribution.values()))"
   ]
  },
  {
   "cell_type": "code",
   "execution_count": 59,
   "metadata": {},
   "outputs": [
    {
     "data": {
      "text/plain": [
       "100.0"
      ]
     },
     "execution_count": 59,
     "metadata": {},
     "output_type": "execute_result"
    },
    {
     "data": {
      "image/png": "[encoded data removed]",
      "text/plain": [
       "<Figure size 432x288 with 1 Axes>"
      ]
     },
     "metadata": {
      "needs_background": "light"
     },
     "output_type": "display_data"
    }
   ],
   "source": [
    "\n",
    "plt.bar(np.arange(len(lowly_concentrated_distribution)), lowly_concentrated_distribution.values()) \n",
    "np.sum(list(lowly_concentrated_distribution.values()))\n"
   ]
  },
  {
   "cell_type": "code",
   "execution_count": 60,
   "metadata": {},
   "outputs": [
    {
     "data": {
      "text/plain": [
       "100.0"
      ]
     },
     "execution_count": 60,
     "metadata": {},
     "output_type": "execute_result"
    },
    {
     "data": {
      "image/png": "[encoded data removed]",
      "text/plain": [
       "<Figure size 432x288 with 1 Axes>"
      ]
     },
     "metadata": {
      "needs_background": "light"
     },
     "output_type": "display_data"
    }
   ],
   "source": [
    "\n",
    "plt.bar(np.arange(len(highly_concentrated_distribution)), highly_concentrated_distribution.values()) \n",
    "np.sum(list(highly_concentrated_distribution.values()))"
   ]
  },
  {
   "cell_type": "code",
   "execution_count": null,
   "metadata": {},
   "outputs": [],
   "source": []
  }
 ],
 "metadata": {
  "kernelspec": {
   "display_name": "Python 3",
   "language": "python",
   "name": "python3"
  },
  "language_info": {
   "codemirror_mode": {
    "name": "ipython",
    "version": 3
   },
   "file_extension": ".py",
   "mimetype": "text/x-python",
   "name": "python",
   "nbconvert_exporter": "python",
   "pygments_lexer": "ipython3",
   "version": "3.8.0"
  },
  "orig_nbformat": 4
 },
 "nbformat": 4,
 "nbformat_minor": 2
}
